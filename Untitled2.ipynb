{
 "cells": [
  {
   "cell_type": "code",
   "execution_count": null,
   "metadata": {},
   "outputs": [],
   "source": [
    "#Single Number\n",
    "\n",
    "##Given a non-empty array of integers nums, every element appears twice except for one. Find that single one.\n",
    "def singleNumber(nums):\n",
    "    sumofSet = 0;\n",
    "    sumofnums = 0;\n",
    "    unique_list = []\n",
    "    for i in range(0,len(nums)):\n",
    "        sumofnums = sumofnums + nums[i]\n",
    "        if nums[i] not in unique_list:\n",
    "            unique_list.append(nums[i])\n",
    "            sumofSet = sumofSet + nums[i]\n",
    "    return (2*sumofSet)-sumofnums"
   ]
  },
  {
   "cell_type": "code",
   "execution_count": 68,
   "metadata": {},
   "outputs": [
    {
     "data": {
      "text/plain": [
       "8"
      ]
     },
     "execution_count": 68,
     "metadata": {},
     "output_type": "execute_result"
    }
   ],
   "source": [
    "###Answer\n",
    "list1 = [1,1,0,3,4,4,5,5,3,0,7,9,7,8,9]\n",
    "singleNumber(list1)"
   ]
  },
  {
   "cell_type": "code",
   "execution_count": 64,
   "metadata": {},
   "outputs": [],
   "source": [
    "#Majority Element\n",
    "\n",
    "#Given an array nums of size n, return the majority element.\n",
    "\n",
    "#The majority element is the element that appears more than ⌊n / 2⌋ times. \n",
    "\n",
    "#You may assume that the majority element always exists in the array.\n",
    "\n",
    "def majorityElement(nums):\n",
    "        nums.sort()\n",
    "        return nums[len(nums)//2]"
   ]
  },
  {
   "cell_type": "code",
   "execution_count": 65,
   "metadata": {},
   "outputs": [
    {
     "data": {
      "text/plain": [
       "2"
      ]
     },
     "execution_count": 65,
     "metadata": {},
     "output_type": "execute_result"
    }
   ],
   "source": [
    "majorityElement([1,2,3,4,5,6,2,2,2,2,2,2])"
   ]
  },
  {
   "cell_type": "code",
   "execution_count": 94,
   "metadata": {},
   "outputs": [],
   "source": [
    "#Given an integer array nums, return all the triplets [nums[i], nums[j], nums[k]] such that i != j, i != k, and j != k, and nums[i] + nums[j] + nums[k] == 0.\n",
    "\n",
    "#Notice that the solution set must not contain duplicate triplets.\n",
    "\n",
    "#Input: nums = [-1,0,1,2,-1,-4]\n",
    "#Output: [[-1,-1,2],[-1,0,1]]\n",
    "\n",
    "def triplets(list1):\n",
    "    triplets_list = []\n",
    "    list1= [i for i in sorted(list1)]\n",
    "    print(list1)\n",
    "    print(\"v\")\n",
    "    for i in range(0,len(list1)):\n",
    "        for j in range(1, len(list1)-1):\n",
    "            for k in range(2, len(list1)-2):\n",
    "                if(list1[i]+list1[j]+list1[k] == 0) :\n",
    "                    triplets_list.append([list1[i],list1[j],list1[k]])\n",
    "    return triplets_list"
   ]
  },
  {
   "cell_type": "code",
   "execution_count": 95,
   "metadata": {},
   "outputs": [
    {
     "name": "stdout",
     "output_type": "stream",
     "text": [
      "[-4, -1, -1, 0, 1, 2]\n",
      "v\n"
     ]
    },
    {
     "data": {
      "text/plain": [
       "[[-1, 1, 0],\n",
       " [-1, 1, 0],\n",
       " [0, 0, 0],\n",
       " [0, 1, -1],\n",
       " [1, -1, 0],\n",
       " [1, -1, 0],\n",
       " [1, 0, -1],\n",
       " [2, -1, -1],\n",
       " [2, -1, -1]]"
      ]
     },
     "execution_count": 95,
     "metadata": {},
     "output_type": "execute_result"
    }
   ],
   "source": [
    "triplets([-1,0,1,2,-1,-4])\n"
   ]
  },
  {
   "cell_type": "code",
   "execution_count": 100,
   "metadata": {},
   "outputs": [
    {
     "name": "stdout",
     "output_type": "stream",
     "text": [
      "[3, 9, 12], [6, 6, 12], "
     ]
    }
   ],
   "source": [
    "# Python program to find unique triplets\n",
    "# that sum up to a given value.\n",
    "\n",
    "# Function to find unique triplets that\n",
    "# sum up to a given value.\n",
    "def findTriplets(nums, n, Sum):\n",
    "\ti = 0\n",
    "\tj = 0\n",
    "\tk = 0\n",
    "\n",
    "\t# list to store all unique triplets.\n",
    "\ttriplet = []\n",
    "\n",
    "\t# list to store already found triplets\n",
    "\t# to avoid duplication.\n",
    "\tuniqTriplets = []\n",
    "\n",
    "\t# Variable used to hold triplet\n",
    "\t# converted to string form.\n",
    "\ttemp = \"\"\n",
    "\n",
    "\t# Variable used to store current\n",
    "\t# triplet which is stored in vector\n",
    "\t# if it is unique.\n",
    "\tnewTriplet = [0, 0, 0]\n",
    "\n",
    "\t# Sort the input array.\n",
    "\tnums.sort()\n",
    "\n",
    "\t# Iterate over the array from the\n",
    "\t# start and consider it as the\n",
    "\t# first element.\n",
    "\tfor i in range(n - 2):\n",
    "\t\t\n",
    "\t\t# index of the first element in\n",
    "\t\t# the remaining elements.\n",
    "\t\tj = i + 1\n",
    "\n",
    "\t\t# index of the last element.\n",
    "\t\tk = n - 1\n",
    "\n",
    "\t\twhile(j < k):\n",
    "\t\t\n",
    "\t\t\t# If sum of triplet is equal to\n",
    "\t\t\t# given value, then check if\n",
    "\t\t\t# this triplet is unique or not.\n",
    "\t\t\t# To check uniqueness, convert\n",
    "\t\t\t# triplet to string form and\n",
    "\t\t\t# then check if this string is\n",
    "\t\t\t# present in set or not. If\n",
    "\t\t\t# triplet is unique, then store\n",
    "\t\t\t# it in list.\n",
    "\t\t\tif(nums[i] + nums[j] + nums[k] == Sum):\n",
    "\t\t\t\ttemp = str(nums[i]) + \":\" + str(nums[j]) + \":\" + str(nums[k])\n",
    "\t\t\t\tif temp not in uniqTriplets:\n",
    "\t\t\t\t\tuniqTriplets.append(temp)\n",
    "\t\t\t\t\tnewTriplet[0] = nums[i]\n",
    "\t\t\t\t\tnewTriplet[1] = nums[j]\n",
    "\t\t\t\t\tnewTriplet[2] = nums[k]\n",
    "\t\t\t\t\ttriplet.append(newTriplet)\n",
    "\t\t\t\t\tnewTriplet = [0, 0, 0]\n",
    "\t\t\t\t# Increment the first index\n",
    "\t\t\t\t# and decrement the last\n",
    "\t\t\t\t# index of remaining elements.\n",
    "\t\t\t\tj += 1\n",
    "\t\t\t\tk -= 1\n",
    "\t\t\t\t\n",
    "\t\t\t# If sum is greater than given\n",
    "\t\t\t# value then to reduce sum\n",
    "\t\t\t# decrement the last index.\n",
    "\t\t\telif(nums[i] + nums[j] + nums[k] > Sum):\n",
    "\t\t\t\tk -= 1\n",
    "\t\t\t\t\n",
    "\t\t\t# If sum is less than given value\n",
    "\t\t\t# then to increase sum increment\n",
    "\t\t\t# the first index of remaining\n",
    "\t\t\t# elements.\n",
    "\t\t\telse:\n",
    "\t\t\t\tj += 1\n",
    "\n",
    "\t# If no unique triplet is found, then\n",
    "\t# return 0.\n",
    "\tif(len(triplet) == 0):\n",
    "\t\treturn 0\n",
    "\t\n",
    "\t# Print all unique triplets stored in\n",
    "\t# list.\n",
    "\tfor i in range(len(triplet)):\n",
    "\t\tprint(triplet[i], end = \", \")\n",
    "\treturn 1\n",
    "\n",
    "# Driver Code\n",
    "nums = [12, 3, 6, 1, 6, 9]\n",
    "n = len(nums)\n",
    "Sum = 24\n",
    "\n",
    "# Function call\n",
    "if(not findTriplets(nums, n, Sum)):\n",
    "\tprint(\"No triplets can be formed.\")\n",
    "\n",
    "# This code is contributed by rag2127\n"
   ]
  },
  {
   "cell_type": "code",
   "execution_count": null,
   "metadata": {},
   "outputs": [],
   "source": []
  }
 ],
 "metadata": {
  "kernelspec": {
   "display_name": "Python 3",
   "language": "python",
   "name": "python3"
  },
  "language_info": {
   "codemirror_mode": {
    "name": "ipython",
    "version": 3
   },
   "file_extension": ".py",
   "mimetype": "text/x-python",
   "name": "python",
   "nbconvert_exporter": "python",
   "pygments_lexer": "ipython3",
   "version": "3.7.13"
  },
  "widgets": {
   "application/vnd.jupyter.widget-state+json": {
    "state": {},
    "version_major": 2,
    "version_minor": 0
   }
  }
 },
 "nbformat": 4,
 "nbformat_minor": 2
}
