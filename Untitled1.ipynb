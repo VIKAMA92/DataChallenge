{
 "cells": [
  {
   "cell_type": "code",
   "execution_count": 1,
   "metadata": {},
   "outputs": [],
   "source": [
    "from pyspark import SparkConf ,SparkContext\n",
    "from pyspark.sql.session import SparkSession\n",
    "\n",
    "\n",
    "conf = SparkConf().setMaster(\"local\").setAppName(\"word-counts\")\n",
    "\n",
    "sc = SparkContext(conf=conf)"
   ]
  },
  {
   "cell_type": "code",
   "execution_count": 2,
   "metadata": {},
   "outputs": [],
   "source": [
    "bookRawRDD = sc.textFile(\"dataset/\" + str(1))"
   ]
  },
  {
   "cell_type": "code",
   "execution_count": 2,
   "metadata": {},
   "outputs": [],
   "source": [
    "#start the SparkContext\n",
    "from pyspark import SparkContext\n",
    "sc=SparkContext(master=\"local[4]\")"
   ]
  },
  {
   "cell_type": "code",
   "execution_count": 3,
   "metadata": {},
   "outputs": [],
   "source": [
    "def pretty_print_plan(rdd):\n",
    "    for x in rdd.toDebugString().decode().split('\\n'):\n",
    "        print(x)"
   ]
  },
  {
   "cell_type": "code",
   "execution_count": 6,
   "metadata": {},
   "outputs": [
    {
     "name": "stdout",
     "output_type": "stream",
     "text": [
      "CPU times: user 1.23 ms, sys: 324 µs, total: 1.55 ms\n",
      "Wall time: 22.5 ms\n"
     ]
    }
   ],
   "source": [
    "%%time\n",
    "text_file = sc.textFile(\"dataset/1\")"
   ]
  },
  {
   "cell_type": "code",
   "execution_count": 7,
   "metadata": {},
   "outputs": [
    {
     "ename": "NameError",
     "evalue": "name 'text_file' is not defined",
     "output_type": "error",
     "traceback": [
      "\u001b[0;31m---------------------------------------------------------------------------\u001b[0m",
      "\u001b[0;31mNameError\u001b[0m                                 Traceback (most recent call last)",
      "\u001b[0;32m<ipython-input-7-b1e9c064f6d8>\u001b[0m in \u001b[0;36m<module>\u001b[0;34m\u001b[0m\n\u001b[0;32m----> 1\u001b[0;31m \u001b[0mtype\u001b[0m\u001b[0;34m(\u001b[0m\u001b[0mtext_file\u001b[0m\u001b[0;34m)\u001b[0m\u001b[0;34m\u001b[0m\u001b[0;34m\u001b[0m\u001b[0m\n\u001b[0m",
      "\u001b[0;31mNameError\u001b[0m: name 'text_file' is not defined"
     ]
    }
   ],
   "source": [
    "type(text_file)"
   ]
  },
  {
   "cell_type": "code",
   "execution_count": null,
   "metadata": {},
   "outputs": [],
   "source": []
  },
  {
   "cell_type": "code",
   "execution_count": null,
   "metadata": {},
   "outputs": [],
   "source": []
  },
  {
   "cell_type": "code",
   "execution_count": null,
   "metadata": {},
   "outputs": [],
   "source": []
  },
  {
   "cell_type": "code",
   "execution_count": null,
   "metadata": {},
   "outputs": [],
   "source": []
  },
  {
   "cell_type": "code",
   "execution_count": 10,
   "metadata": {},
   "outputs": [
    {
     "name": "stdout",
     "output_type": "stream",
     "text": [
      "PythonRDD[199] at RDD at PythonRDD.scala:53\n",
      "PythonRDD[204] at RDD at PythonRDD.scala:53\n",
      "PythonRDD[208] at RDD at PythonRDD.scala:53\n",
      "PythonRDD[212] at RDD at PythonRDD.scala:53\n",
      "PythonRDD[216] at RDD at PythonRDD.scala:53\n",
      "PythonRDD[220] at RDD at PythonRDD.scala:53\n",
      "PythonRDD[224] at RDD at PythonRDD.scala:53\n",
      "PythonRDD[228] at RDD at PythonRDD.scala:53\n",
      "PythonRDD[232] at RDD at PythonRDD.scala:53\n",
      "PythonRDD[236] at RDD at PythonRDD.scala:53\n",
      "PythonRDD[240] at RDD at PythonRDD.scala:53\n",
      "PythonRDD[244] at RDD at PythonRDD.scala:53\n",
      "PythonRDD[248] at RDD at PythonRDD.scala:53\n",
      "PythonRDD[252] at RDD at PythonRDD.scala:53\n",
      "PythonRDD[256] at RDD at PythonRDD.scala:53\n",
      "PythonRDD[260] at RDD at PythonRDD.scala:53\n",
      "PythonRDD[264] at RDD at PythonRDD.scala:53\n",
      "PythonRDD[268] at RDD at PythonRDD.scala:53\n",
      "PythonRDD[272] at RDD at PythonRDD.scala:53\n",
      "PythonRDD[276] at RDD at PythonRDD.scala:53\n",
      "PythonRDD[280] at RDD at PythonRDD.scala:53\n",
      "PythonRDD[284] at RDD at PythonRDD.scala:53\n",
      "PythonRDD[288] at RDD at PythonRDD.scala:53\n",
      "PythonRDD[292] at RDD at PythonRDD.scala:53\n",
      "PythonRDD[296] at RDD at PythonRDD.scala:53\n",
      "PythonRDD[300] at RDD at PythonRDD.scala:53\n",
      "PythonRDD[304] at RDD at PythonRDD.scala:53\n",
      "PythonRDD[308] at RDD at PythonRDD.scala:53\n",
      "PythonRDD[312] at RDD at PythonRDD.scala:53\n",
      "PythonRDD[316] at RDD at PythonRDD.scala:53\n",
      "PythonRDD[320] at RDD at PythonRDD.scala:53\n",
      "PythonRDD[324] at RDD at PythonRDD.scala:53\n",
      "PythonRDD[328] at RDD at PythonRDD.scala:53\n",
      "PythonRDD[332] at RDD at PythonRDD.scala:53\n",
      "PythonRDD[336] at RDD at PythonRDD.scala:53\n",
      "PythonRDD[340] at RDD at PythonRDD.scala:53\n",
      "PythonRDD[344] at RDD at PythonRDD.scala:53\n",
      "PythonRDD[348] at RDD at PythonRDD.scala:53\n",
      "PythonRDD[352] at RDD at PythonRDD.scala:53\n",
      "PythonRDD[356] at RDD at PythonRDD.scala:53\n",
      "PythonRDD[360] at RDD at PythonRDD.scala:53\n",
      "PythonRDD[364] at RDD at PythonRDD.scala:53\n",
      "PythonRDD[368] at RDD at PythonRDD.scala:53\n",
      "PythonRDD[372] at RDD at PythonRDD.scala:53\n",
      "PythonRDD[376] at RDD at PythonRDD.scala:53\n"
     ]
    }
   ],
   "source": [
    "import os\n",
    "import re\n",
    "d = {}\n",
    "documentsProcessedRDD = sc.emptyRDD()\n",
    "for i in range(len(os.listdir(\"dataset\"))):\n",
    "    bookRawRDD = sc.textFile(\"dataset/\" + str(i))\n",
    "    bookMessyTokensRDD = bookRawRDD.flatMap(lambda line: [(i, w) for w in line.lower().strip().split(\" \")])\n",
    "    bookCleanTokensRDD = bookMessyTokensRDD.map(lambda letter: re.sub(r'[^A-Za-z]', '', letter))\n",
    "    \n",
    "    #remove stop words\n",
    "    from pyspark.ml.feature import StopWordsRemover\n",
    "    remover = StopWordsRemover()\n",
    "    stopwords = remover.getStopWords()\n",
    "    bookwordsRDD = bookCleanTokensRDD.filter(lambda PointLessW: PointLessW not in stopwords)\n",
    "    ##Remove the empty places\n",
    "    bookEmptyRemoveRDD = bookwordsRDD.filter(lambda x: x != \"\")\n",
    "    print(bookEmptyRemoveRD)\n",
    "    ### Appending the Individual book RDD to documentsProcessedRDD\n",
    "    documentsProcessedRDD = documentsProcessedRDD.union(bookEmptyRemoveRDD)\n",
    "    #print(documentsProcessedRDD.count())"
   ]
  },
  {
   "cell_type": "code",
   "execution_count": null,
   "metadata": {},
   "outputs": [],
   "source": []
  },
  {
   "cell_type": "code",
   "execution_count": null,
   "metadata": {},
   "outputs": [],
   "source": []
  },
  {
   "cell_type": "code",
   "execution_count": 4,
   "metadata": {},
   "outputs": [
    {
     "name": "stdout",
     "output_type": "stream",
     "text": [
      "<class 'pyspark.rdd.RDD'>\n"
     ]
    }
   ],
   "source": [
    "print(type(documentsProcessedRDD))"
   ]
  },
  {
   "cell_type": "code",
   "execution_count": 5,
   "metadata": {},
   "outputs": [],
   "source": [
    "# map words to immediate keyvlue pairs\n",
    "documentsProcessedPairsRDD = documentsProcessedRDD.map(lambda word: (word,1))"
   ]
  },
  {
   "cell_type": "code",
   "execution_count": 6,
   "metadata": {},
   "outputs": [],
   "source": [
    "# tranform pairs to word count\n",
    "documentsProcessedWordCountRDD = documentsProcessedPairsRDD.reduceByKey(lambda acc, value: acc + value)"
   ]
  },
  {
   "cell_type": "code",
   "execution_count": null,
   "metadata": {},
   "outputs": [],
   "source": []
  }
 ],
 "metadata": {
  "kernelspec": {
   "display_name": "Python 3",
   "language": "python",
   "name": "python3"
  },
  "language_info": {
   "codemirror_mode": {
    "name": "ipython",
    "version": 3
   },
   "file_extension": ".py",
   "mimetype": "text/x-python",
   "name": "python",
   "nbconvert_exporter": "python",
   "pygments_lexer": "ipython3",
   "version": "3.7.13"
  }
 },
 "nbformat": 4,
 "nbformat_minor": 2
}
